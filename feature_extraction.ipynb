{
 "cells": [
  {
   "cell_type": "code",
   "execution_count": 2,
   "metadata": {
    "ExecuteTime": {
     "end_time": "2019-12-16T15:42:48.138922Z",
     "start_time": "2019-12-16T15:42:41.380133Z"
    }
   },
   "outputs": [],
   "source": [
    "import pandas as pd\n",
    "#import geopandas as gpd\n",
    "import numpy as np\n",
    "%matplotlib inline\n",
    "import matplotlib.pyplot as plt\n",
    "from scipy import stats\n",
    "import statsmodels.formula.api as smf\n",
    "import statsmodels.api as sm\n",
    "from sklearn.linear_model import LinearRegression\n",
    "# PCA module\n",
    "from sklearn.decomposition import PCA\n",
    "from sklearn.model_selection import train_test_split\n",
    "from mpl_toolkits.mplot3d import Axes3D\n",
    "from sklearn import datasets\n",
    "from sklearn import linear_model\n",
    "from sklearn import preprocessing\n",
    "from sklearn.metrics import r2_score\n",
    "import datetime"
   ]
  },
  {
   "cell_type": "markdown",
   "metadata": {},
   "source": [
    "# Add all datasets, Preprocess, Save Proccessed Data Set"
   ]
  },
  {
   "cell_type": "code",
   "execution_count": 3,
   "metadata": {
    "ExecuteTime": {
     "end_time": "2019-12-16T15:42:48.173524Z",
     "start_time": "2019-12-16T15:42:48.163714Z"
    }
   },
   "outputs": [],
   "source": [
    "r_dir = r'../raw_data/'\n",
    "c_dir = r'../cleaned_data/'"
   ]
  },
  {
   "cell_type": "code",
   "execution_count": null,
   "metadata": {
    "ExecuteTime": {
     "end_time": "2019-12-11T20:32:58.835153Z",
     "start_time": "2019-12-11T20:32:23.329259Z"
    }
   },
   "outputs": [],
   "source": [
    "yellow_12_2018 = pd.read_csv(r_dir+'yellow_tripdata_2018-12.csv')"
   ]
  },
  {
   "cell_type": "code",
   "execution_count": null,
   "metadata": {
    "ExecuteTime": {
     "end_time": "2019-12-12T03:30:51.533554Z",
     "start_time": "2019-12-12T03:30:05.539026Z"
    }
   },
   "outputs": [],
   "source": [
    "yellow_11_2018 = pd.read_csv(r_dir+'yellow_tripdata_2018-11.csv')"
   ]
  },
  {
   "cell_type": "code",
   "execution_count": null,
   "metadata": {
    "ExecuteTime": {
     "end_time": "2019-12-12T03:14:36.179386Z",
     "start_time": "2019-12-12T03:14:01.739513Z"
    }
   },
   "outputs": [],
   "source": [
    "yellow_10_2018 = pd.read_csv(r_dir+'yellow_tripdata_2018-10.csv')"
   ]
  },
  {
   "cell_type": "code",
   "execution_count": null,
   "metadata": {
    "ExecuteTime": {
     "end_time": "2019-12-12T03:15:02.608723Z",
     "start_time": "2019-12-12T03:14:39.801227Z"
    }
   },
   "outputs": [],
   "source": [
    "yellow_9_2018 = pd.read_csv(r_dir+'yellow_tripdata_2018-09.csv')"
   ]
  },
  {
   "cell_type": "code",
   "execution_count": 13,
   "metadata": {
    "ExecuteTime": {
     "end_time": "2019-12-16T16:06:19.519194Z",
     "start_time": "2019-12-16T16:05:44.135024Z"
    }
   },
   "outputs": [],
   "source": [
    "yellow_8_2018 = pd.read_csv(r_dir+'yellow_tripdata_2018-08.csv')"
   ]
  },
  {
   "cell_type": "code",
   "execution_count": 5,
   "metadata": {
    "ExecuteTime": {
     "end_time": "2019-12-16T15:43:50.194089Z",
     "start_time": "2019-12-16T15:43:18.129203Z"
    }
   },
   "outputs": [],
   "source": [
    "yellow_7_2018 = pd.read_csv(r_dir+'yellow_tripdata_2018-07.csv')"
   ]
  },
  {
   "cell_type": "code",
   "execution_count": null,
   "metadata": {
    "ExecuteTime": {
     "end_time": "2019-12-11T20:33:38.313433Z",
     "start_time": "2019-12-11T20:33:38.130159Z"
    }
   },
   "outputs": [],
   "source": [
    "yellow_12_2018.head()"
   ]
  },
  {
   "cell_type": "code",
   "execution_count": 6,
   "metadata": {
    "ExecuteTime": {
     "end_time": "2019-12-16T15:43:51.000171Z",
     "start_time": "2019-12-16T15:43:50.363493Z"
    }
   },
   "outputs": [],
   "source": [
    "taxi_zone = pd.read_csv(r_dir+'taxi_zones.csv')\n",
    "weather = pd.read_csv(r_dir+'nyc.csv')"
   ]
  },
  {
   "cell_type": "code",
   "execution_count": 7,
   "metadata": {
    "ExecuteTime": {
     "end_time": "2019-12-16T15:43:51.506681Z",
     "start_time": "2019-12-16T15:43:51.433436Z"
    }
   },
   "outputs": [],
   "source": [
    "weather_c = weather[['date_time','totalSnow_cm','precipMM','tempC']]"
   ]
  },
  {
   "cell_type": "code",
   "execution_count": null,
   "metadata": {
    "ExecuteTime": {
     "end_time": "2019-12-09T16:35:02.015292Z",
     "start_time": "2019-12-09T16:35:01.976806Z"
    }
   },
   "outputs": [],
   "source": [
    "weather_c.head()"
   ]
  },
  {
   "cell_type": "code",
   "execution_count": 8,
   "metadata": {
    "ExecuteTime": {
     "end_time": "2019-12-16T15:43:51.730337Z",
     "start_time": "2019-12-16T15:43:51.653160Z"
    }
   },
   "outputs": [],
   "source": [
    "# classify weather as bad by defining totalSnow_cm > 2 cm which is moderate to heavy snow and precipMM > 2.6 which is\n",
    "# moderate to heavy rain\n",
    "Badweather = weather_c.loc[(weather_c['totalSnow_cm']>2) |(weather_c['precipMM']>1.5)]\n",
    "# extract badweather date\n",
    "Badweather_date = [datetime.datetime.strptime(date, \"%Y-%m-%d %H:%M:%S\") for date in Badweather['date_time']]"
   ]
  },
  {
   "cell_type": "code",
   "execution_count": 9,
   "metadata": {
    "ExecuteTime": {
     "end_time": "2019-12-16T15:43:51.943794Z",
     "start_time": "2019-12-16T15:43:51.935231Z"
    }
   },
   "outputs": [],
   "source": [
    "# \n",
    "def month_preprocess(df_o):\n",
    "    df = df_o.copy()\n",
    "    ind = df['trip_distance'] > 0\n",
    "    df = df[ind]\n",
    "    # convert to datetime object\n",
    "    df['tpep_pickup_datetime'] = pd.to_datetime(df['tpep_pickup_datetime'],format ='%Y-%m-%d %H:%M:%S')\n",
    "    df['DOW'] = df['tpep_pickup_datetime'].dt.weekday\n",
    "    df['HOD'] = df['tpep_pickup_datetime'].dt.hour\n",
    "    df['DOM'] = df['tpep_pickup_datetime'].dt.day\n",
    "    # keep only hour information\n",
    "    df['tpep_pickup_datetime'] = df['tpep_pickup_datetime'].apply(lambda x: x.replace(minute=0,second=0))\n",
    "    # Define essential columns\n",
    "    essential = ['tpep_pickup_datetime','tpep_dropoff_datetime','passenger_count','PULocationID','DOLocationID','DOW','HOD','DOM']\n",
    "    df = df[essential]\n",
    "    return df"
   ]
  },
  {
   "cell_type": "code",
   "execution_count": null,
   "metadata": {
    "ExecuteTime": {
     "end_time": "2019-12-11T20:34:06.954494Z",
     "start_time": "2019-12-11T20:33:48.602215Z"
    }
   },
   "outputs": [],
   "source": [
    "yellow_12_2018_c = yellow_12_2018.copy()\n",
    "# exclude unusual ride\n",
    "# trip distance > 0 \n",
    "ind = yellow_12_2018_c['trip_distance'] > 0\n",
    "yellow_12_2018_c = yellow_12_2018_c[ind]\n",
    "# convert to datetime object\n",
    "yellow_12_2018_c['tpep_pickup_datetime'] = pd.to_datetime(yellow_12_2018['tpep_pickup_datetime'],format ='%Y-%m-%d %H:%M:%S')\n",
    "yellow_12_2018_c['tpep_dropoff_datetime'] = pd.to_datetime(yellow_12_2018['tpep_dropoff_datetime'],format ='%Y-%m-%d %H:%M:%S')\n"
   ]
  },
  {
   "cell_type": "code",
   "execution_count": null,
   "metadata": {
    "ExecuteTime": {
     "end_time": "2019-12-11T20:35:26.382302Z",
     "start_time": "2019-12-11T20:34:11.086385Z"
    }
   },
   "outputs": [],
   "source": [
    "# create time features\n",
    "yellow_12_2018_c['DOW'] = yellow_12_2018_c['tpep_pickup_datetime'].dt.weekday\n",
    "yellow_12_2018_c['HOD'] = yellow_12_2018_c['tpep_pickup_datetime'].dt.hour\n",
    "yellow_12_2018_c['DOM'] = yellow_12_2018_c['tpep_pickup_datetime'].dt.day\n",
    "# keep only hour information\n",
    "yellow_12_2018_c['tpep_pickup_datetime'] = yellow_12_2018_c['tpep_pickup_datetime'].apply(lambda x: x.replace(minute=0,second=0))"
   ]
  },
  {
   "cell_type": "code",
   "execution_count": null,
   "metadata": {
    "ExecuteTime": {
     "end_time": "2019-12-11T20:13:01.490584Z",
     "start_time": "2019-12-11T20:13:01.467633Z"
    }
   },
   "outputs": [],
   "source": [
    "# Define essential columns\n",
    "essential = ['tpep_pickup_datetime','tpep_dropoff_datetime','passenger_count','PULocationID','DOLocationID','DOW','HOD','DOM']"
   ]
  },
  {
   "cell_type": "code",
   "execution_count": null,
   "metadata": {
    "ExecuteTime": {
     "end_time": "2019-12-11T20:39:51.506292Z",
     "start_time": "2019-12-11T20:39:45.510324Z"
    }
   },
   "outputs": [],
   "source": [
    "yellow_12_2018_c = yellow_12_2018_c[essential]"
   ]
  },
  {
   "cell_type": "code",
   "execution_count": null,
   "metadata": {
    "ExecuteTime": {
     "end_time": "2019-12-12T01:17:31.910777Z",
     "start_time": "2019-12-12T01:17:31.732447Z"
    }
   },
   "outputs": [],
   "source": [
    "yellow_12_2018_c.head()"
   ]
  },
  {
   "cell_type": "code",
   "execution_count": null,
   "metadata": {
    "ExecuteTime": {
     "end_time": "2019-12-12T03:05:19.012738Z",
     "start_time": "2019-12-12T03:01:29.220251Z"
    }
   },
   "outputs": [],
   "source": [
    "# Save the Processed Data\n",
    "yellow_12_2018_c.to_csv(c_dir+'yellow_12_2018.csv')\n",
    "del yellow_12_2018"
   ]
  },
  {
   "cell_type": "code",
   "execution_count": null,
   "metadata": {
    "ExecuteTime": {
     "end_time": "2019-12-12T03:38:18.464459Z",
     "start_time": "2019-12-12T03:32:20.570930Z"
    }
   },
   "outputs": [],
   "source": [
    "yellow_11_2018_c = month_preprocess(yellow_11_2018)\n",
    "yellow_11_2018_c.to_csv(c_dir+'yellow_11_2018.csv')\n",
    "del yellow_11_2018"
   ]
  },
  {
   "cell_type": "code",
   "execution_count": null,
   "metadata": {
    "ExecuteTime": {
     "end_time": "2019-12-12T03:44:09.173137Z",
     "start_time": "2019-12-12T03:38:23.434342Z"
    }
   },
   "outputs": [],
   "source": [
    "yellow_10_2018_c = month_preprocess(yellow_10_2018)\n",
    "yellow_10_2018_c.to_csv(c_dir+'yellow_10_2018.csv')\n",
    "del yellow_10_2018"
   ]
  },
  {
   "cell_type": "code",
   "execution_count": null,
   "metadata": {
    "ExecuteTime": {
     "end_time": "2019-12-12T03:49:10.023476Z",
     "start_time": "2019-12-12T03:44:12.078622Z"
    }
   },
   "outputs": [],
   "source": [
    "yellow_9_2018_c = month_preprocess(yellow_9_2018)\n",
    "yellow_9_2018_c.to_csv(c_dir+'yellow_9_2018.csv')\n",
    "del yellow_9_2018"
   ]
  },
  {
   "cell_type": "code",
   "execution_count": 14,
   "metadata": {
    "ExecuteTime": {
     "end_time": "2019-12-16T16:10:11.851566Z",
     "start_time": "2019-12-16T16:06:20.357577Z"
    }
   },
   "outputs": [],
   "source": [
    "yellow_8_2018_c = month_preprocess(yellow_8_2018)\n",
    "yellow_8_2018_c.to_csv(c_dir+'yellow_8_2018.csv')\n",
    "del yellow_8_2018"
   ]
  },
  {
   "cell_type": "code",
   "execution_count": 15,
   "metadata": {
    "ExecuteTime": {
     "end_time": "2019-12-16T16:13:57.194048Z",
     "start_time": "2019-12-16T16:10:12.095356Z"
    }
   },
   "outputs": [],
   "source": [
    "yellow_7_2018_c = month_preprocess(yellow_7_2018)\n",
    "yellow_7_2018_c.to_csv(c_dir+'yellow_7_2018.csv')\n",
    "del yellow_7_2018"
   ]
  },
  {
   "cell_type": "markdown",
   "metadata": {},
   "source": [
    "# Some Visual"
   ]
  },
  {
   "cell_type": "code",
   "execution_count": null,
   "metadata": {},
   "outputs": [],
   "source": [
    "# Count and visualize the top 11 areas with most demand throughout December\n",
    "# load taxi zone map\n",
    "tzs=gpd.read_file(r_dir+'taxi_zones/taxi_zones.shp')\n",
    "yellow_agg_12 = yellow_12_2018_c.groupby('PULocationID').count()\n",
    "top11_12 = yellow_agg_12.nlargest(11,'DOLocationID')\n",
    "tzs_yellow_12 = tzs.merge(top11_12, left_on = 'LocationID', right_on ='PULocationID' )"
   ]
  },
  {
   "cell_type": "code",
   "execution_count": null,
   "metadata": {
    "ExecuteTime": {
     "end_time": "2019-12-05T22:27:07.946641Z",
     "start_time": "2019-12-05T22:27:07.471867Z"
    }
   },
   "outputs": [],
   "source": [
    "f,ax = plt.subplots(1, figsize=(15,10))\n",
    "ax.set_title('December Pickup top 11 Locations', fontsize=18)\n",
    "tzs_yellow_12.plot(axes=ax, column = 'DOLocationID', legend = True, cmap = \"Greens\")"
   ]
  },
  {
   "cell_type": "code",
   "execution_count": null,
   "metadata": {
    "ExecuteTime": {
     "end_time": "2019-12-05T22:33:47.555470Z",
     "start_time": "2019-12-05T22:33:47.527235Z"
    }
   },
   "outputs": [],
   "source": [
    "# top 11 Pickup locations\n",
    "tzs_yellow_12['zone']"
   ]
  },
  {
   "cell_type": "markdown",
   "metadata": {},
   "source": [
    "# Feature Extraction"
   ]
  },
  {
   "cell_type": "code",
   "execution_count": 18,
   "metadata": {
    "ExecuteTime": {
     "end_time": "2019-12-16T16:20:32.568406Z",
     "start_time": "2019-12-16T16:19:00.551487Z"
    }
   },
   "outputs": [],
   "source": [
    "# need to convert datetime again when read\n",
    "yellow_12_2018_c = pd.read_csv(c_dir+\"yellow_12_2018.csv\")\n",
    "yellow_12_2018_c['tpep_pickup_datetime'] = pd.to_datetime(yellow_12_2018_c['tpep_pickup_datetime'],format ='%Y-%m-%d %H:%M:%S')\n",
    "yellow_11_2018_c = pd.read_csv(c_dir+\"yellow_11_2018.csv\")\n",
    "yellow_11_2018_c['tpep_pickup_datetime'] = pd.to_datetime(yellow_11_2018_c['tpep_pickup_datetime'],format ='%Y-%m-%d %H:%M:%S')\n",
    "yellow_10_2018_c = pd.read_csv(c_dir+\"yellow_10_2018.csv\")\n",
    "yellow_10_2018_c['tpep_pickup_datetime'] = pd.to_datetime(yellow_10_2018_c['tpep_pickup_datetime'],format ='%Y-%m-%d %H:%M:%S')\n",
    "yellow_9_2018_c = pd.read_csv(c_dir+\"yellow_9_2018.csv\")\n",
    "yellow_9_2018_c['tpep_pickup_datetime'] = pd.to_datetime(yellow_9_2018_c['tpep_pickup_datetime'],format ='%Y-%m-%d %H:%M:%S')\n",
    "yellow_8_2018_c = pd.read_csv(c_dir+\"yellow_8_2018.csv\")\n",
    "yellow_8_2018_c['tpep_pickup_datetime'] = pd.to_datetime(yellow_8_2018_c['tpep_pickup_datetime'],format ='%Y-%m-%d %H:%M:%S')\n",
    "yellow_7_2018_c = pd.read_csv(c_dir+\"yellow_7_2018.csv\")\n",
    "yellow_7_2018_c['tpep_pickup_datetime'] = pd.to_datetime(yellow_7_2018_c['tpep_pickup_datetime'],format ='%Y-%m-%d %H:%M:%S')\n"
   ]
  },
  {
   "cell_type": "code",
   "execution_count": null,
   "metadata": {
    "ExecuteTime": {
     "end_time": "2019-12-12T04:54:01.037456Z",
     "start_time": "2019-12-12T04:54:01.004065Z"
    }
   },
   "outputs": [],
   "source": [
    "yellow_9_2018_c.head()"
   ]
  },
  {
   "cell_type": "code",
   "execution_count": 20,
   "metadata": {
    "ExecuteTime": {
     "end_time": "2019-12-16T16:21:22.975769Z",
     "start_time": "2019-12-16T16:21:05.570049Z"
    }
   },
   "outputs": [],
   "source": [
    "# Further clean keep only rides in Each Month\n",
    "yellow_12_2018_c = yellow_12_2018_c[yellow_12_2018_c.tpep_pickup_datetime.dt.month == 12]\n",
    "yellow_11_2018_c = yellow_11_2018_c[yellow_11_2018_c.tpep_pickup_datetime.dt.month == 11]\n",
    "yellow_10_2018_c = yellow_10_2018_c[yellow_10_2018_c.tpep_pickup_datetime.dt.month == 10]\n",
    "yellow_9_2018_c = yellow_9_2018_c[yellow_9_2018_c.tpep_pickup_datetime.dt.month == 9]\n",
    "yellow_8_2018_c = yellow_8_2018_c[yellow_8_2018_c.tpep_pickup_datetime.dt.month == 8]\n",
    "yellow_7_2018_c = yellow_7_2018_c[yellow_7_2018_c.tpep_pickup_datetime.dt.month == 7]"
   ]
  },
  {
   "cell_type": "code",
   "execution_count": 21,
   "metadata": {
    "ExecuteTime": {
     "end_time": "2019-12-16T16:21:29.118063Z",
     "start_time": "2019-12-16T16:21:28.682714Z"
    }
   },
   "outputs": [
    {
     "data": {
      "text/html": [
       "<div>\n",
       "<style scoped>\n",
       "    .dataframe tbody tr th:only-of-type {\n",
       "        vertical-align: middle;\n",
       "    }\n",
       "\n",
       "    .dataframe tbody tr th {\n",
       "        vertical-align: top;\n",
       "    }\n",
       "\n",
       "    .dataframe thead th {\n",
       "        text-align: right;\n",
       "    }\n",
       "</style>\n",
       "<table border=\"1\" class=\"dataframe\">\n",
       "  <thead>\n",
       "    <tr style=\"text-align: right;\">\n",
       "      <th></th>\n",
       "      <th>Unnamed: 0</th>\n",
       "      <th>tpep_pickup_datetime</th>\n",
       "      <th>tpep_dropoff_datetime</th>\n",
       "      <th>passenger_count</th>\n",
       "      <th>PULocationID</th>\n",
       "      <th>DOLocationID</th>\n",
       "      <th>DOW</th>\n",
       "      <th>HOD</th>\n",
       "      <th>DOM</th>\n",
       "    </tr>\n",
       "  </thead>\n",
       "  <tbody>\n",
       "    <tr>\n",
       "      <td>0</td>\n",
       "      <td>0</td>\n",
       "      <td>2018-08-01</td>\n",
       "      <td>2018-08-01 01:03:22</td>\n",
       "      <td>1</td>\n",
       "      <td>238</td>\n",
       "      <td>79</td>\n",
       "      <td>2</td>\n",
       "      <td>0</td>\n",
       "      <td>1</td>\n",
       "    </tr>\n",
       "    <tr>\n",
       "      <td>1</td>\n",
       "      <td>2</td>\n",
       "      <td>2018-08-01</td>\n",
       "      <td>2018-08-01 00:24:40</td>\n",
       "      <td>1</td>\n",
       "      <td>138</td>\n",
       "      <td>7</td>\n",
       "      <td>2</td>\n",
       "      <td>0</td>\n",
       "      <td>1</td>\n",
       "    </tr>\n",
       "    <tr>\n",
       "      <td>2</td>\n",
       "      <td>3</td>\n",
       "      <td>2018-08-01</td>\n",
       "      <td>2018-08-01 00:49:10</td>\n",
       "      <td>1</td>\n",
       "      <td>231</td>\n",
       "      <td>7</td>\n",
       "      <td>2</td>\n",
       "      <td>0</td>\n",
       "      <td>1</td>\n",
       "    </tr>\n",
       "    <tr>\n",
       "      <td>3</td>\n",
       "      <td>4</td>\n",
       "      <td>2018-08-01</td>\n",
       "      <td>2018-08-01 00:07:32</td>\n",
       "      <td>2</td>\n",
       "      <td>79</td>\n",
       "      <td>148</td>\n",
       "      <td>2</td>\n",
       "      <td>0</td>\n",
       "      <td>1</td>\n",
       "    </tr>\n",
       "    <tr>\n",
       "      <td>4</td>\n",
       "      <td>5</td>\n",
       "      <td>2018-08-01</td>\n",
       "      <td>2018-08-01 00:55:23</td>\n",
       "      <td>2</td>\n",
       "      <td>114</td>\n",
       "      <td>7</td>\n",
       "      <td>2</td>\n",
       "      <td>0</td>\n",
       "      <td>1</td>\n",
       "    </tr>\n",
       "  </tbody>\n",
       "</table>\n",
       "</div>"
      ],
      "text/plain": [
       "   Unnamed: 0 tpep_pickup_datetime tpep_dropoff_datetime  passenger_count  \\\n",
       "0           0           2018-08-01   2018-08-01 01:03:22                1   \n",
       "1           2           2018-08-01   2018-08-01 00:24:40                1   \n",
       "2           3           2018-08-01   2018-08-01 00:49:10                1   \n",
       "3           4           2018-08-01   2018-08-01 00:07:32                2   \n",
       "4           5           2018-08-01   2018-08-01 00:55:23                2   \n",
       "\n",
       "   PULocationID  DOLocationID  DOW  HOD  DOM  \n",
       "0           238            79    2    0    1  \n",
       "1           138             7    2    0    1  \n",
       "2           231             7    2    0    1  \n",
       "3            79           148    2    0    1  \n",
       "4           114             7    2    0    1  "
      ]
     },
     "execution_count": 21,
     "metadata": {},
     "output_type": "execute_result"
    }
   ],
   "source": [
    "yellow_8_2018_c.head()"
   ]
  },
  {
   "cell_type": "code",
   "execution_count": 22,
   "metadata": {
    "ExecuteTime": {
     "end_time": "2019-12-16T16:21:33.356204Z",
     "start_time": "2019-12-16T16:21:33.341860Z"
    }
   },
   "outputs": [
    {
     "data": {
      "text/html": [
       "<div>\n",
       "<style scoped>\n",
       "    .dataframe tbody tr th:only-of-type {\n",
       "        vertical-align: middle;\n",
       "    }\n",
       "\n",
       "    .dataframe tbody tr th {\n",
       "        vertical-align: top;\n",
       "    }\n",
       "\n",
       "    .dataframe thead th {\n",
       "        text-align: right;\n",
       "    }\n",
       "</style>\n",
       "<table border=\"1\" class=\"dataframe\">\n",
       "  <thead>\n",
       "    <tr style=\"text-align: right;\">\n",
       "      <th></th>\n",
       "      <th>Unnamed: 0</th>\n",
       "      <th>tpep_pickup_datetime</th>\n",
       "      <th>tpep_dropoff_datetime</th>\n",
       "      <th>passenger_count</th>\n",
       "      <th>PULocationID</th>\n",
       "      <th>DOLocationID</th>\n",
       "      <th>DOW</th>\n",
       "      <th>HOD</th>\n",
       "      <th>DOM</th>\n",
       "    </tr>\n",
       "  </thead>\n",
       "  <tbody>\n",
       "    <tr>\n",
       "      <td>0</td>\n",
       "      <td>0</td>\n",
       "      <td>2018-07-01</td>\n",
       "      <td>2018-07-01 00:28:51</td>\n",
       "      <td>1</td>\n",
       "      <td>145</td>\n",
       "      <td>145</td>\n",
       "      <td>6</td>\n",
       "      <td>0</td>\n",
       "      <td>1</td>\n",
       "    </tr>\n",
       "    <tr>\n",
       "      <td>1</td>\n",
       "      <td>1</td>\n",
       "      <td>2018-07-01</td>\n",
       "      <td>2018-07-01 00:30:17</td>\n",
       "      <td>1</td>\n",
       "      <td>145</td>\n",
       "      <td>145</td>\n",
       "      <td>6</td>\n",
       "      <td>0</td>\n",
       "      <td>1</td>\n",
       "    </tr>\n",
       "    <tr>\n",
       "      <td>2</td>\n",
       "      <td>2</td>\n",
       "      <td>2018-07-01</td>\n",
       "      <td>2018-07-01 00:08:29</td>\n",
       "      <td>2</td>\n",
       "      <td>211</td>\n",
       "      <td>144</td>\n",
       "      <td>6</td>\n",
       "      <td>0</td>\n",
       "      <td>1</td>\n",
       "    </tr>\n",
       "    <tr>\n",
       "      <td>3</td>\n",
       "      <td>3</td>\n",
       "      <td>2018-07-01</td>\n",
       "      <td>2018-07-01 00:36:35</td>\n",
       "      <td>1</td>\n",
       "      <td>144</td>\n",
       "      <td>142</td>\n",
       "      <td>6</td>\n",
       "      <td>0</td>\n",
       "      <td>1</td>\n",
       "    </tr>\n",
       "    <tr>\n",
       "      <td>4</td>\n",
       "      <td>4</td>\n",
       "      <td>2018-07-01</td>\n",
       "      <td>2018-07-01 00:50:54</td>\n",
       "      <td>1</td>\n",
       "      <td>142</td>\n",
       "      <td>141</td>\n",
       "      <td>6</td>\n",
       "      <td>0</td>\n",
       "      <td>1</td>\n",
       "    </tr>\n",
       "  </tbody>\n",
       "</table>\n",
       "</div>"
      ],
      "text/plain": [
       "   Unnamed: 0 tpep_pickup_datetime tpep_dropoff_datetime  passenger_count  \\\n",
       "0           0           2018-07-01   2018-07-01 00:28:51                1   \n",
       "1           1           2018-07-01   2018-07-01 00:30:17                1   \n",
       "2           2           2018-07-01   2018-07-01 00:08:29                2   \n",
       "3           3           2018-07-01   2018-07-01 00:36:35                1   \n",
       "4           4           2018-07-01   2018-07-01 00:50:54                1   \n",
       "\n",
       "   PULocationID  DOLocationID  DOW  HOD  DOM  \n",
       "0           145           145    6    0    1  \n",
       "1           145           145    6    0    1  \n",
       "2           211           144    6    0    1  \n",
       "3           144           142    6    0    1  \n",
       "4           142           141    6    0    1  "
      ]
     },
     "execution_count": 22,
     "metadata": {},
     "output_type": "execute_result"
    }
   ],
   "source": [
    "yellow_7_2018_c.head()"
   ]
  },
  {
   "cell_type": "code",
   "execution_count": 23,
   "metadata": {
    "ExecuteTime": {
     "end_time": "2019-12-16T16:24:55.146948Z",
     "start_time": "2019-12-16T16:22:53.753206Z"
    }
   },
   "outputs": [
    {
     "name": "stderr",
     "output_type": "stream",
     "text": [
      "/Applications/anaconda3/envs/py3/lib/python3.7/site-packages/pandas/core/frame.py:7123: FutureWarning: Sorting because non-concatenation axis is not aligned. A future version\n",
      "of pandas will change to not sort by default.\n",
      "\n",
      "To accept the future behavior, pass 'sort=False'.\n",
      "\n",
      "To retain the current behavior and silence the warning, pass 'sort=True'.\n",
      "\n",
      "  sort=sort,\n"
     ]
    }
   ],
   "source": [
    "# concatenate six months\n",
    "Alldata = yellow_7_2018_c.append(yellow_8_2018_c)\n",
    "Alldata = Alldata.append(yellow_9_2018_c)\n",
    "Alldata = Alldata.append(yellow_10_2018_c)\n",
    "Alldata = Alldata.append(yellow_11_2018_c)\n",
    "Alldata = Alldata.append(yellow_12_2018_c)"
   ]
  },
  {
   "cell_type": "code",
   "execution_count": 24,
   "metadata": {
    "ExecuteTime": {
     "end_time": "2019-12-16T16:25:32.937820Z",
     "start_time": "2019-12-16T16:24:55.669863Z"
    }
   },
   "outputs": [],
   "source": [
    "# take only time square pickup\n",
    "ind = Alldata['PULocationID'] == 230\n",
    "timesquare_pu = Alldata[ind]"
   ]
  },
  {
   "cell_type": "code",
   "execution_count": 25,
   "metadata": {
    "ExecuteTime": {
     "end_time": "2019-12-16T16:25:48.857972Z",
     "start_time": "2019-12-16T16:25:33.592863Z"
    }
   },
   "outputs": [
    {
     "data": {
      "text/html": [
       "<div>\n",
       "<style scoped>\n",
       "    .dataframe tbody tr th:only-of-type {\n",
       "        vertical-align: middle;\n",
       "    }\n",
       "\n",
       "    .dataframe tbody tr th {\n",
       "        vertical-align: top;\n",
       "    }\n",
       "\n",
       "    .dataframe thead th {\n",
       "        text-align: right;\n",
       "    }\n",
       "</style>\n",
       "<table border=\"1\" class=\"dataframe\">\n",
       "  <thead>\n",
       "    <tr style=\"text-align: right;\">\n",
       "      <th></th>\n",
       "      <th></th>\n",
       "      <th></th>\n",
       "      <th></th>\n",
       "      <th>DOLocationID</th>\n",
       "      <th>PULocationID</th>\n",
       "      <th>Unnamed: 0</th>\n",
       "      <th>Unnamed: 0.1</th>\n",
       "      <th>passenger_count</th>\n",
       "      <th>tpep_dropoff_datetime</th>\n",
       "    </tr>\n",
       "    <tr>\n",
       "      <th>tpep_pickup_datetime</th>\n",
       "      <th>DOM</th>\n",
       "      <th>DOW</th>\n",
       "      <th>HOD</th>\n",
       "      <th></th>\n",
       "      <th></th>\n",
       "      <th></th>\n",
       "      <th></th>\n",
       "      <th></th>\n",
       "      <th></th>\n",
       "    </tr>\n",
       "  </thead>\n",
       "  <tbody>\n",
       "    <tr>\n",
       "      <td>2018-07-01 00:00:00</td>\n",
       "      <td>1</td>\n",
       "      <td>6</td>\n",
       "      <td>0</td>\n",
       "      <td>491</td>\n",
       "      <td>491</td>\n",
       "      <td>491</td>\n",
       "      <td>0</td>\n",
       "      <td>491</td>\n",
       "      <td>491</td>\n",
       "    </tr>\n",
       "    <tr>\n",
       "      <td>2018-07-01 01:00:00</td>\n",
       "      <td>1</td>\n",
       "      <td>6</td>\n",
       "      <td>1</td>\n",
       "      <td>324</td>\n",
       "      <td>324</td>\n",
       "      <td>324</td>\n",
       "      <td>0</td>\n",
       "      <td>324</td>\n",
       "      <td>324</td>\n",
       "    </tr>\n",
       "    <tr>\n",
       "      <td>2018-07-01 02:00:00</td>\n",
       "      <td>1</td>\n",
       "      <td>6</td>\n",
       "      <td>2</td>\n",
       "      <td>207</td>\n",
       "      <td>207</td>\n",
       "      <td>207</td>\n",
       "      <td>0</td>\n",
       "      <td>207</td>\n",
       "      <td>207</td>\n",
       "    </tr>\n",
       "    <tr>\n",
       "      <td>2018-07-01 03:00:00</td>\n",
       "      <td>1</td>\n",
       "      <td>6</td>\n",
       "      <td>3</td>\n",
       "      <td>146</td>\n",
       "      <td>146</td>\n",
       "      <td>146</td>\n",
       "      <td>0</td>\n",
       "      <td>146</td>\n",
       "      <td>146</td>\n",
       "    </tr>\n",
       "    <tr>\n",
       "      <td>2018-07-01 04:00:00</td>\n",
       "      <td>1</td>\n",
       "      <td>6</td>\n",
       "      <td>4</td>\n",
       "      <td>184</td>\n",
       "      <td>184</td>\n",
       "      <td>184</td>\n",
       "      <td>0</td>\n",
       "      <td>184</td>\n",
       "      <td>184</td>\n",
       "    </tr>\n",
       "  </tbody>\n",
       "</table>\n",
       "</div>"
      ],
      "text/plain": [
       "                                  DOLocationID  PULocationID  Unnamed: 0  \\\n",
       "tpep_pickup_datetime DOM DOW HOD                                           \n",
       "2018-07-01 00:00:00  1   6   0             491           491         491   \n",
       "2018-07-01 01:00:00  1   6   1             324           324         324   \n",
       "2018-07-01 02:00:00  1   6   2             207           207         207   \n",
       "2018-07-01 03:00:00  1   6   3             146           146         146   \n",
       "2018-07-01 04:00:00  1   6   4             184           184         184   \n",
       "\n",
       "                                  Unnamed: 0.1  passenger_count  \\\n",
       "tpep_pickup_datetime DOM DOW HOD                                  \n",
       "2018-07-01 00:00:00  1   6   0               0              491   \n",
       "2018-07-01 01:00:00  1   6   1               0              324   \n",
       "2018-07-01 02:00:00  1   6   2               0              207   \n",
       "2018-07-01 03:00:00  1   6   3               0              146   \n",
       "2018-07-01 04:00:00  1   6   4               0              184   \n",
       "\n",
       "                                  tpep_dropoff_datetime  \n",
       "tpep_pickup_datetime DOM DOW HOD                         \n",
       "2018-07-01 00:00:00  1   6   0                      491  \n",
       "2018-07-01 01:00:00  1   6   1                      324  \n",
       "2018-07-01 02:00:00  1   6   2                      207  \n",
       "2018-07-01 03:00:00  1   6   3                      146  \n",
       "2018-07-01 04:00:00  1   6   4                      184  "
      ]
     },
     "execution_count": 25,
     "metadata": {},
     "output_type": "execute_result"
    }
   ],
   "source": [
    "# agggregate by one hour interval,groupby DOW,DOM,Hour_of_Day\n",
    "# mulitlevel representation useful for aggregating computation\n",
    "timesquare_pu.groupby(['tpep_pickup_datetime','DOM','DOW','HOD']).count().head()"
   ]
  },
  {
   "cell_type": "code",
   "execution_count": 27,
   "metadata": {
    "ExecuteTime": {
     "end_time": "2019-12-16T16:28:16.299118Z",
     "start_time": "2019-12-16T16:26:24.767531Z"
    }
   },
   "outputs": [
    {
     "data": {
      "image/png": "[encoded data removed]",
      "text/plain": [
       "<Figure size 1080x360 with 1 Axes>"
      ]
     },
     "metadata": {
      "needs_background": "light"
     },
     "output_type": "display_data"
    }
   ],
   "source": [
    "# pattern in whole month\n",
    "hourly_count = timesquare_pu.groupby(['DOM','DOW','HOD']).count()['passenger_count']\n",
    "hourly_count.rename(columns={'passenger_count':'trip_count'},inplace=True)\n",
    "ax = hourly_count.plot(x='DOM', y='trip_count', kind='line', style=\"-o\", figsize=(15,5))\n",
    "ax.set_ylabel(\"Hourly Pattern in a month\")\n",
    "ax.set_ylabel(\"trip_count\")\n",
    "plt.show()\n"
   ]
  },
  {
   "cell_type": "code",
   "execution_count": 28,
   "metadata": {
    "ExecuteTime": {
     "end_time": "2019-12-16T16:31:22.069485Z",
     "start_time": "2019-12-16T16:31:18.771023Z"
    }
   },
   "outputs": [
    {
     "data": {
      "text/html": [
       "<div>\n",
       "<style scoped>\n",
       "    .dataframe tbody tr th:only-of-type {\n",
       "        vertical-align: middle;\n",
       "    }\n",
       "\n",
       "    .dataframe tbody tr th {\n",
       "        vertical-align: top;\n",
       "    }\n",
       "\n",
       "    .dataframe thead th {\n",
       "        text-align: right;\n",
       "    }\n",
       "</style>\n",
       "<table border=\"1\" class=\"dataframe\">\n",
       "  <thead>\n",
       "    <tr style=\"text-align: right;\">\n",
       "      <th></th>\n",
       "      <th>tpep_pickup_datetime</th>\n",
       "      <th>DOM</th>\n",
       "      <th>DOW</th>\n",
       "      <th>HOD</th>\n",
       "      <th>trip_count</th>\n",
       "    </tr>\n",
       "  </thead>\n",
       "  <tbody>\n",
       "    <tr>\n",
       "      <td>0</td>\n",
       "      <td>2018-07-01 00:00:00</td>\n",
       "      <td>1</td>\n",
       "      <td>6</td>\n",
       "      <td>0</td>\n",
       "      <td>491</td>\n",
       "    </tr>\n",
       "    <tr>\n",
       "      <td>1</td>\n",
       "      <td>2018-07-01 01:00:00</td>\n",
       "      <td>1</td>\n",
       "      <td>6</td>\n",
       "      <td>1</td>\n",
       "      <td>324</td>\n",
       "    </tr>\n",
       "    <tr>\n",
       "      <td>2</td>\n",
       "      <td>2018-07-01 02:00:00</td>\n",
       "      <td>1</td>\n",
       "      <td>6</td>\n",
       "      <td>2</td>\n",
       "      <td>207</td>\n",
       "    </tr>\n",
       "    <tr>\n",
       "      <td>3</td>\n",
       "      <td>2018-07-01 03:00:00</td>\n",
       "      <td>1</td>\n",
       "      <td>6</td>\n",
       "      <td>3</td>\n",
       "      <td>146</td>\n",
       "    </tr>\n",
       "    <tr>\n",
       "      <td>4</td>\n",
       "      <td>2018-07-01 04:00:00</td>\n",
       "      <td>1</td>\n",
       "      <td>6</td>\n",
       "      <td>4</td>\n",
       "      <td>184</td>\n",
       "    </tr>\n",
       "  </tbody>\n",
       "</table>\n",
       "</div>"
      ],
      "text/plain": [
       "  tpep_pickup_datetime  DOM  DOW  HOD  trip_count\n",
       "0  2018-07-01 00:00:00    1    6    0         491\n",
       "1  2018-07-01 01:00:00    1    6    1         324\n",
       "2  2018-07-01 02:00:00    1    6    2         207\n",
       "3  2018-07-01 03:00:00    1    6    3         146\n",
       "4  2018-07-01 04:00:00    1    6    4         184"
      ]
     },
     "execution_count": 28,
     "metadata": {},
     "output_type": "execute_result"
    }
   ],
   "source": [
    "# reset index  Training feature representaion\n",
    "hourly_count = timesquare_pu.groupby(['tpep_pickup_datetime','DOM','DOW','HOD']).count()['passenger_count']\n",
    "Timesquare_hourly_count = hourly_count.reset_index()\n",
    "Timesquare_hourly_count.rename(columns={'passenger_count':'trip_count'},inplace=True)\n",
    "Timesquare_hourly_count.head()"
   ]
  },
  {
   "cell_type": "code",
   "execution_count": 29,
   "metadata": {
    "ExecuteTime": {
     "end_time": "2019-12-16T16:31:26.856923Z",
     "start_time": "2019-12-16T16:31:26.823403Z"
    }
   },
   "outputs": [
    {
     "data": {
      "text/html": [
       "<div>\n",
       "<style scoped>\n",
       "    .dataframe tbody tr th:only-of-type {\n",
       "        vertical-align: middle;\n",
       "    }\n",
       "\n",
       "    .dataframe tbody tr th {\n",
       "        vertical-align: top;\n",
       "    }\n",
       "\n",
       "    .dataframe thead th {\n",
       "        text-align: right;\n",
       "    }\n",
       "</style>\n",
       "<table border=\"1\" class=\"dataframe\">\n",
       "  <thead>\n",
       "    <tr style=\"text-align: right;\">\n",
       "      <th></th>\n",
       "      <th>tpep_pickup_datetime</th>\n",
       "      <th>DOM</th>\n",
       "      <th>DOW</th>\n",
       "      <th>HOD</th>\n",
       "      <th>trip_count</th>\n",
       "      <th>bad_weather</th>\n",
       "    </tr>\n",
       "  </thead>\n",
       "  <tbody>\n",
       "    <tr>\n",
       "      <td>0</td>\n",
       "      <td>2018-07-01 00:00:00</td>\n",
       "      <td>1</td>\n",
       "      <td>6</td>\n",
       "      <td>0</td>\n",
       "      <td>491</td>\n",
       "      <td>0</td>\n",
       "    </tr>\n",
       "    <tr>\n",
       "      <td>1</td>\n",
       "      <td>2018-07-01 01:00:00</td>\n",
       "      <td>1</td>\n",
       "      <td>6</td>\n",
       "      <td>1</td>\n",
       "      <td>324</td>\n",
       "      <td>0</td>\n",
       "    </tr>\n",
       "    <tr>\n",
       "      <td>2</td>\n",
       "      <td>2018-07-01 02:00:00</td>\n",
       "      <td>1</td>\n",
       "      <td>6</td>\n",
       "      <td>2</td>\n",
       "      <td>207</td>\n",
       "      <td>0</td>\n",
       "    </tr>\n",
       "    <tr>\n",
       "      <td>3</td>\n",
       "      <td>2018-07-01 03:00:00</td>\n",
       "      <td>1</td>\n",
       "      <td>6</td>\n",
       "      <td>3</td>\n",
       "      <td>146</td>\n",
       "      <td>0</td>\n",
       "    </tr>\n",
       "    <tr>\n",
       "      <td>4</td>\n",
       "      <td>2018-07-01 04:00:00</td>\n",
       "      <td>1</td>\n",
       "      <td>6</td>\n",
       "      <td>4</td>\n",
       "      <td>184</td>\n",
       "      <td>0</td>\n",
       "    </tr>\n",
       "  </tbody>\n",
       "</table>\n",
       "</div>"
      ],
      "text/plain": [
       "  tpep_pickup_datetime  DOM  DOW  HOD  trip_count  bad_weather\n",
       "0  2018-07-01 00:00:00    1    6    0         491            0\n",
       "1  2018-07-01 01:00:00    1    6    1         324            0\n",
       "2  2018-07-01 02:00:00    1    6    2         207            0\n",
       "3  2018-07-01 03:00:00    1    6    3         146            0\n",
       "4  2018-07-01 04:00:00    1    6    4         184            0"
      ]
     },
     "execution_count": 29,
     "metadata": {},
     "output_type": "execute_result"
    }
   ],
   "source": [
    "# Incoporate bad weater \n",
    "Timesquare_hourly_count['bad_weather'] = np.where(Timesquare_hourly_count.tpep_pickup_datetime.isin(Badweather_date),1,0)\n",
    "Timesquare_hourly_count.head()"
   ]
  },
  {
   "cell_type": "code",
   "execution_count": 31,
   "metadata": {
    "ExecuteTime": {
     "end_time": "2019-12-16T16:45:52.001870Z",
     "start_time": "2019-12-16T16:45:51.525992Z"
    }
   },
   "outputs": [],
   "source": [
    "# Incoporate Holiday\n",
    "import holidays\n",
    "Holidays = [date for y in range(2017, 2019) for date, _ in sorted(holidays.US(years=y).items())]\n",
    "# manually add new years eve\n",
    "Holidays.append(datetime.date(2017, 12, 31))\n",
    "Holidays.append(datetime.date(2018, 12, 31))"
   ]
  },
  {
   "cell_type": "code",
   "execution_count": 32,
   "metadata": {
    "ExecuteTime": {
     "end_time": "2019-12-16T16:46:25.553435Z",
     "start_time": "2019-12-16T16:46:25.519858Z"
    }
   },
   "outputs": [],
   "source": [
    "# date column created to select holidays, will be dropped\n",
    "Timesquare_hourly_count['date'] = Timesquare_hourly_count.tpep_pickup_datetime.dt.date\n",
    "Timesquare_hourly_count['is_holiday'] = np.where(Timesquare_hourly_count.date.isin(Holidays), 1, 0)\n",
    "# next_... columns are features to be used\n",
    "#Timesquare_hourly_count['nexthour_count'] = Timesquare_hourly_count.trip_count.shift(-1)\n",
    "#Timesquare_hourly_count['next_isBadweather'] = Timesquare_hourly_count.bad_weather.shift(-1)"
   ]
  },
  {
   "cell_type": "code",
   "execution_count": 33,
   "metadata": {
    "ExecuteTime": {
     "end_time": "2019-12-16T16:46:27.707368Z",
     "start_time": "2019-12-16T16:46:27.641694Z"
    }
   },
   "outputs": [],
   "source": [
    "# Incorporate lags\n",
    "maxlag = 24\n",
    "lagdata=pd.DataFrame([])\n",
    "for lag in range(1,maxlag+1):\n",
    "        varname = 'lag' + str(lag)\n",
    "        lagdata[varname] = Timesquare_hourly_count['trip_count'].iloc[maxlag-lag:len(Timesquare_hourly_count)-lag].reset_index(drop = True)\n",
    "Timesquare_hourly_count_L = pd.concat([Timesquare_hourly_count.loc[maxlag:].reset_index(drop = True), lagdata.reset_index(drop = True)], axis = 1, sort = False)"
   ]
  },
  {
   "cell_type": "code",
   "execution_count": 34,
   "metadata": {
    "ExecuteTime": {
     "end_time": "2019-12-16T16:46:31.343354Z",
     "start_time": "2019-12-16T16:46:31.320150Z"
    }
   },
   "outputs": [],
   "source": [
    "# reorder trip_count column\n",
    "temp = Timesquare_hourly_count_L['trip_count']\n",
    "Timesquare_hourly_count_L = Timesquare_hourly_count_L.drop(['trip_count'],axis = 1)\n",
    "Timesquare_hourly_count_L['trip_count'] = temp"
   ]
  },
  {
   "cell_type": "code",
   "execution_count": 35,
   "metadata": {
    "ExecuteTime": {
     "end_time": "2019-12-16T16:46:35.554322Z",
     "start_time": "2019-12-16T16:46:35.498862Z"
    }
   },
   "outputs": [
    {
     "data": {
      "text/html": [
       "<div>\n",
       "<style scoped>\n",
       "    .dataframe tbody tr th:only-of-type {\n",
       "        vertical-align: middle;\n",
       "    }\n",
       "\n",
       "    .dataframe tbody tr th {\n",
       "        vertical-align: top;\n",
       "    }\n",
       "\n",
       "    .dataframe thead th {\n",
       "        text-align: right;\n",
       "    }\n",
       "</style>\n",
       "<table border=\"1\" class=\"dataframe\">\n",
       "  <thead>\n",
       "    <tr style=\"text-align: right;\">\n",
       "      <th></th>\n",
       "      <th>tpep_pickup_datetime</th>\n",
       "      <th>DOM</th>\n",
       "      <th>DOW</th>\n",
       "      <th>HOD</th>\n",
       "      <th>bad_weather</th>\n",
       "      <th>date</th>\n",
       "      <th>is_holiday</th>\n",
       "      <th>lag1</th>\n",
       "      <th>lag2</th>\n",
       "      <th>lag3</th>\n",
       "      <th>...</th>\n",
       "      <th>lag16</th>\n",
       "      <th>lag17</th>\n",
       "      <th>lag18</th>\n",
       "      <th>lag19</th>\n",
       "      <th>lag20</th>\n",
       "      <th>lag21</th>\n",
       "      <th>lag22</th>\n",
       "      <th>lag23</th>\n",
       "      <th>lag24</th>\n",
       "      <th>trip_count</th>\n",
       "    </tr>\n",
       "  </thead>\n",
       "  <tbody>\n",
       "    <tr>\n",
       "      <td>0</td>\n",
       "      <td>2018-07-02 00:00:00</td>\n",
       "      <td>2</td>\n",
       "      <td>0</td>\n",
       "      <td>0</td>\n",
       "      <td>0</td>\n",
       "      <td>2018-07-02</td>\n",
       "      <td>0</td>\n",
       "      <td>416</td>\n",
       "      <td>401</td>\n",
       "      <td>479</td>\n",
       "      <td>...</td>\n",
       "      <td>267</td>\n",
       "      <td>146</td>\n",
       "      <td>82</td>\n",
       "      <td>97</td>\n",
       "      <td>184</td>\n",
       "      <td>146</td>\n",
       "      <td>207</td>\n",
       "      <td>324</td>\n",
       "      <td>491</td>\n",
       "      <td>273</td>\n",
       "    </tr>\n",
       "    <tr>\n",
       "      <td>1</td>\n",
       "      <td>2018-07-02 01:00:00</td>\n",
       "      <td>2</td>\n",
       "      <td>0</td>\n",
       "      <td>1</td>\n",
       "      <td>0</td>\n",
       "      <td>2018-07-02</td>\n",
       "      <td>0</td>\n",
       "      <td>273</td>\n",
       "      <td>416</td>\n",
       "      <td>401</td>\n",
       "      <td>...</td>\n",
       "      <td>428</td>\n",
       "      <td>267</td>\n",
       "      <td>146</td>\n",
       "      <td>82</td>\n",
       "      <td>97</td>\n",
       "      <td>184</td>\n",
       "      <td>146</td>\n",
       "      <td>207</td>\n",
       "      <td>324</td>\n",
       "      <td>147</td>\n",
       "    </tr>\n",
       "    <tr>\n",
       "      <td>2</td>\n",
       "      <td>2018-07-02 02:00:00</td>\n",
       "      <td>2</td>\n",
       "      <td>0</td>\n",
       "      <td>2</td>\n",
       "      <td>0</td>\n",
       "      <td>2018-07-02</td>\n",
       "      <td>0</td>\n",
       "      <td>147</td>\n",
       "      <td>273</td>\n",
       "      <td>416</td>\n",
       "      <td>...</td>\n",
       "      <td>470</td>\n",
       "      <td>428</td>\n",
       "      <td>267</td>\n",
       "      <td>146</td>\n",
       "      <td>82</td>\n",
       "      <td>97</td>\n",
       "      <td>184</td>\n",
       "      <td>146</td>\n",
       "      <td>207</td>\n",
       "      <td>83</td>\n",
       "    </tr>\n",
       "    <tr>\n",
       "      <td>3</td>\n",
       "      <td>2018-07-02 03:00:00</td>\n",
       "      <td>2</td>\n",
       "      <td>0</td>\n",
       "      <td>3</td>\n",
       "      <td>0</td>\n",
       "      <td>2018-07-02</td>\n",
       "      <td>0</td>\n",
       "      <td>83</td>\n",
       "      <td>147</td>\n",
       "      <td>273</td>\n",
       "      <td>...</td>\n",
       "      <td>550</td>\n",
       "      <td>470</td>\n",
       "      <td>428</td>\n",
       "      <td>267</td>\n",
       "      <td>146</td>\n",
       "      <td>82</td>\n",
       "      <td>97</td>\n",
       "      <td>184</td>\n",
       "      <td>146</td>\n",
       "      <td>76</td>\n",
       "    </tr>\n",
       "    <tr>\n",
       "      <td>4</td>\n",
       "      <td>2018-07-02 04:00:00</td>\n",
       "      <td>2</td>\n",
       "      <td>0</td>\n",
       "      <td>4</td>\n",
       "      <td>0</td>\n",
       "      <td>2018-07-02</td>\n",
       "      <td>0</td>\n",
       "      <td>76</td>\n",
       "      <td>83</td>\n",
       "      <td>147</td>\n",
       "      <td>...</td>\n",
       "      <td>495</td>\n",
       "      <td>550</td>\n",
       "      <td>470</td>\n",
       "      <td>428</td>\n",
       "      <td>267</td>\n",
       "      <td>146</td>\n",
       "      <td>82</td>\n",
       "      <td>97</td>\n",
       "      <td>184</td>\n",
       "      <td>73</td>\n",
       "    </tr>\n",
       "  </tbody>\n",
       "</table>\n",
       "<p>5 rows × 32 columns</p>\n",
       "</div>"
      ],
      "text/plain": [
       "  tpep_pickup_datetime  DOM  DOW  HOD  bad_weather        date  is_holiday  \\\n",
       "0  2018-07-02 00:00:00    2    0    0            0  2018-07-02           0   \n",
       "1  2018-07-02 01:00:00    2    0    1            0  2018-07-02           0   \n",
       "2  2018-07-02 02:00:00    2    0    2            0  2018-07-02           0   \n",
       "3  2018-07-02 03:00:00    2    0    3            0  2018-07-02           0   \n",
       "4  2018-07-02 04:00:00    2    0    4            0  2018-07-02           0   \n",
       "\n",
       "   lag1  lag2  lag3  ...  lag16  lag17  lag18  lag19  lag20  lag21  lag22  \\\n",
       "0   416   401   479  ...    267    146     82     97    184    146    207   \n",
       "1   273   416   401  ...    428    267    146     82     97    184    146   \n",
       "2   147   273   416  ...    470    428    267    146     82     97    184   \n",
       "3    83   147   273  ...    550    470    428    267    146     82     97   \n",
       "4    76    83   147  ...    495    550    470    428    267    146     82   \n",
       "\n",
       "   lag23  lag24  trip_count  \n",
       "0    324    491         273  \n",
       "1    207    324         147  \n",
       "2    146    207          83  \n",
       "3    184    146          76  \n",
       "4     97    184          73  \n",
       "\n",
       "[5 rows x 32 columns]"
      ]
     },
     "execution_count": 35,
     "metadata": {},
     "output_type": "execute_result"
    }
   ],
   "source": [
    "Timesquare_hourly_count_L.head()"
   ]
  },
  {
   "cell_type": "code",
   "execution_count": 36,
   "metadata": {
    "ExecuteTime": {
     "end_time": "2019-12-16T16:46:43.591373Z",
     "start_time": "2019-12-16T16:46:43.575560Z"
    }
   },
   "outputs": [
    {
     "data": {
      "text/plain": [
       "(3677, 32)"
      ]
     },
     "execution_count": 36,
     "metadata": {},
     "output_type": "execute_result"
    }
   ],
   "source": [
    "Timesquare_hourly_count_L.shape"
   ]
  },
  {
   "cell_type": "code",
   "execution_count": 37,
   "metadata": {
    "ExecuteTime": {
     "end_time": "2019-12-16T16:46:52.479343Z",
     "start_time": "2019-12-16T16:46:52.214346Z"
    }
   },
   "outputs": [],
   "source": [
    "Timesquare_hourly_count_L.to_csv(c_dir+'TS_2018.csv')"
   ]
  },
  {
   "cell_type": "code",
   "execution_count": 7,
   "metadata": {},
   "outputs": [],
   "source": [
    "Timesquare_hourly_count_L= pd.read_csv(c_dir+\"TS_2018.csv\")"
   ]
  },
  {
   "cell_type": "markdown",
   "metadata": {},
   "source": [
    "#  Some Visual"
   ]
  },
  {
   "cell_type": "code",
   "execution_count": 8,
   "metadata": {},
   "outputs": [],
   "source": [
    "# December starts on Saturday\n",
    "def dailyvisual(start,end):\n",
    "    ind = (Timesquare_hourly_count['DOM'] >= start) &(Timesquare_hourly_count['DOM'] <= end)\n",
    "    selected_days = Timesquare_hourly_count[ind]\n",
    "    # Reindex for visualization\n",
    "    selected_days = selected_days.set_index(['DOW','Hour_of_Day'])\n",
    "    ax = selected_days.plot( y='trip_count', kind='line', style=\"-o\", figsize=(15,5))\n",
    "    ax.set_ylabel(\"trip_count\")\n",
    "    ax.set_title('hourly pattern by DOW and Hour')\n",
    "    plt.show()"
   ]
  },
  {
   "cell_type": "code",
   "execution_count": null,
   "metadata": {
    "ExecuteTime": {
     "end_time": "2019-12-06T01:54:57.338058Z",
     "start_time": "2019-12-06T01:54:57.005340Z"
    }
   },
   "outputs": [],
   "source": [
    "# First Week 12/3 - 12/9 visualize Monday to Sunday\n",
    "dailyvisual(3,9)"
   ]
  },
  {
   "cell_type": "code",
   "execution_count": null,
   "metadata": {
    "ExecuteTime": {
     "end_time": "2019-12-06T01:55:21.554412Z",
     "start_time": "2019-12-06T01:55:21.261915Z"
    }
   },
   "outputs": [],
   "source": [
    "# 12/10 - 12/16\n",
    "dailyvisual(10,16)"
   ]
  },
  {
   "cell_type": "code",
   "execution_count": null,
   "metadata": {
    "ExecuteTime": {
     "end_time": "2019-12-06T01:56:28.397608Z",
     "start_time": "2019-12-06T01:56:28.074303Z"
    }
   },
   "outputs": [],
   "source": [
    "#12/17-12/23\n",
    "dailyvisual(17,23)"
   ]
  },
  {
   "cell_type": "code",
   "execution_count": null,
   "metadata": {
    "ExecuteTime": {
     "end_time": "2019-12-06T01:57:33.835323Z",
     "start_time": "2019-12-06T01:57:33.463126Z"
    }
   },
   "outputs": [],
   "source": [
    "#12/24-12/30\n",
    "dailyvisual(24,30)"
   ]
  },
  {
   "cell_type": "code",
   "execution_count": null,
   "metadata": {},
   "outputs": [],
   "source": [
    "#to do: add weather , add lags, create features for 5 other locations, \n",
    "# build a polynomial regression model\n",
    "# model for one location --> model for several locations"
   ]
  },
  {
   "cell_type": "code",
   "execution_count": null,
   "metadata": {},
   "outputs": [],
   "source": []
  }
 ],
 "metadata": {
  "kernelspec": {
   "display_name": "Python 2",
   "language": "python",
   "name": "python2"
  },
  "language_info": {
   "codemirror_mode": {
    "name": "ipython",
    "version": 3
   },
   "file_extension": ".py",
   "mimetype": "text/x-python",
   "name": "python",
   "nbconvert_exporter": "python",
   "pygments_lexer": "ipython3",
   "version": "3.7.3"
  },
  "toc": {
   "base_numbering": 1,
   "nav_menu": {},
   "number_sections": true,
   "sideBar": true,
   "skip_h1_title": false,
   "title_cell": "Table of Contents",
   "title_sidebar": "Contents",
   "toc_cell": false,
   "toc_position": {},
   "toc_section_display": true,
   "toc_window_display": false
  },
  "varInspector": {
   "cols": {
    "lenName": 16,
    "lenType": 16,
    "lenVar": 40
   },
   "kernels_config": {
    "python": {
     "delete_cmd_postfix": "",
     "delete_cmd_prefix": "del ",
     "library": "var_list.py",
     "varRefreshCmd": "print(var_dic_list())"
    },
    "r": {
     "delete_cmd_postfix": ") ",
     "delete_cmd_prefix": "rm(",
     "library": "var_list.r",
     "varRefreshCmd": "cat(var_dic_list()) "
    }
   },
   "types_to_exclude": [
    "module",
    "function",
    "builtin_function_or_method",
    "instance",
    "_Feature"
   ],
   "window_display": false
  }
 },
 "nbformat": 4,
 "nbformat_minor": 2
}
